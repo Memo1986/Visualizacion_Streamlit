{
 "cells": [
  {
   "cell_type": "markdown",
   "id": "0e3bfec8-309d-4d2b-bab0-f43342a9a0c4",
   "metadata": {},
   "source": [
    "# Streamlit: marco de trabajo para desarrollo de aplicaciones web de ciencia de datos y aprendizaje automatizado"
   ]
  },
  {
   "cell_type": "markdown",
   "id": "8d521979-ab75-4122-bd25-90f8e4b8c1f9",
   "metadata": {},
   "source": [
    "## Importar las bibliotecas necesarias"
   ]
  },
  {
   "cell_type": "code",
   "execution_count": 1,
   "id": "d15ab2a4-6e2a-4f5e-862f-ef497731b314",
   "metadata": {},
   "outputs": [],
   "source": [
    "## Importar pandas\n",
    "import pandas as pd\n",
    "import geopandas as gpd\n",
    "import numpy as np\n",
    "import matplotlib\n",
    "import matplotlib.pyplot as plt # biblioteca de graficación\n",
    "%matplotlib inline\n",
    "import calendar # biblioteca para manejo de fechas\n",
    "import os\n",
    "import requests\n",
    "import zipfile\n",
    "import contextily as cx\n",
    "from geojson import dump\n",
    "from owslib.wfs import WebFeatureService\n",
    "from mpl_toolkits.axes_grid1 import make_axes_locatable\n",
    "import descartes\n",
    "import folium\n",
    "from folium import Marker\n",
    "import math\n",
    "import plotly.express as px\n",
    "from folium import Marker\n",
    "from folium.plugins import MarkerCluster\n",
    "from folium.plugins import HeatMap\n",
    "import streamlit as st"
   ]
  },
  {
   "cell_type": "code",
   "execution_count": 2,
   "id": "a5036cc7-6c41-471e-9b7d-6f3331f71bab",
   "metadata": {},
   "outputs": [
    {
     "name": "stderr",
     "output_type": "stream",
     "text": [
      "2024-01-04 10:52:22.676 \n",
      "  \u001b[33m\u001b[1mWarning:\u001b[0m to view this Streamlit app on a browser, run it with the following\n",
      "  command:\n",
      "\n",
      "    streamlit run C:\\Users\\Memo\\AppData\\Local\\R-MINI~1\\envs\\geopython\\Lib\\site-packages\\ipykernel_launcher.py [ARGUMENTS]\n"
     ]
    },
    {
     "data": {
      "text/plain": [
       "DeltaGenerator()"
      ]
     },
     "execution_count": 2,
     "metadata": {},
     "output_type": "execute_result"
    }
   ],
   "source": [
    "st.title(\"Ejemplo de aplicación Streamlit\")"
   ]
  },
  {
   "cell_type": "code",
   "execution_count": null,
   "id": "840355c5-4fe2-44c0-8f3b-541dfd33de30",
   "metadata": {},
   "outputs": [],
   "source": []
  },
  {
   "cell_type": "code",
   "execution_count": null,
   "id": "da6404a7-3bbe-4b74-b3f6-608e929fd4ee",
   "metadata": {},
   "outputs": [],
   "source": []
  },
  {
   "cell_type": "code",
   "execution_count": null,
   "id": "0090f40d-d995-495c-998c-6f0fac635e54",
   "metadata": {},
   "outputs": [],
   "source": []
  },
  {
   "cell_type": "code",
   "execution_count": null,
   "id": "ea1843d5-df56-4a7e-ba13-de7d720061d1",
   "metadata": {},
   "outputs": [],
   "source": []
  },
  {
   "cell_type": "code",
   "execution_count": null,
   "id": "d51fee65-d183-4254-a526-198efb00f2fa",
   "metadata": {},
   "outputs": [],
   "source": []
  },
  {
   "cell_type": "code",
   "execution_count": null,
   "id": "f520e8e9-ef3e-44c8-8f8e-ce53a7221858",
   "metadata": {},
   "outputs": [],
   "source": []
  },
  {
   "cell_type": "code",
   "execution_count": null,
   "id": "65419b87-07ff-4c63-9b0f-f319123a286a",
   "metadata": {},
   "outputs": [],
   "source": []
  }
 ],
 "metadata": {
  "kernelspec": {
   "display_name": "Python 3 (ipykernel)",
   "language": "python",
   "name": "python3"
  },
  "language_info": {
   "codemirror_mode": {
    "name": "ipython",
    "version": 3
   },
   "file_extension": ".py",
   "mimetype": "text/x-python",
   "name": "python",
   "nbconvert_exporter": "python",
   "pygments_lexer": "ipython3",
   "version": "3.12.0"
  }
 },
 "nbformat": 4,
 "nbformat_minor": 5
}
